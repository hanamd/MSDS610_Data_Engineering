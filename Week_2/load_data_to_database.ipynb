{
 "cells": [
  {
   "cell_type": "code",
   "execution_count": 1,
   "id": "a27e6c85",
   "metadata": {},
   "outputs": [],
   "source": [
    "#!pip install psycopg2"
   ]
  },
  {
   "cell_type": "code",
   "execution_count": 2,
   "id": "764524dd",
   "metadata": {},
   "outputs": [],
   "source": [
    "#!pip install sqlalchemy"
   ]
  },
  {
   "cell_type": "code",
   "execution_count": 3,
   "id": "0a670042",
   "metadata": {
    "scrolled": true
   },
   "outputs": [],
   "source": [
    "#!pip show psycopg2-binary"
   ]
  },
  {
   "cell_type": "code",
   "execution_count": 4,
   "id": "3088011f",
   "metadata": {},
   "outputs": [],
   "source": [
    "#!pip install seaborn"
   ]
  },
  {
   "cell_type": "code",
   "execution_count": 5,
   "id": "136c0c55",
   "metadata": {
    "scrolled": true
   },
   "outputs": [
    {
     "name": "stdout",
     "output_type": "stream",
     "text": [
      "Name: psycopg2\r\n",
      "Version: 2.9.10\r\n",
      "Summary: psycopg2 - Python-PostgreSQL Database Adapter\r\n",
      "Home-page: https://psycopg.org/\r\n",
      "Author: Federico Di Gregorio\r\n",
      "Author-email: fog@initd.org\r\n",
      "License: LGPL with exceptions\r\n",
      "Location: /opt/miniconda3/lib/python3.12/site-packages\r\n",
      "Requires: \r\n",
      "Required-by: \r\n"
     ]
    }
   ],
   "source": [
    "!pip show psycopg2"
   ]
  },
  {
   "cell_type": "code",
   "execution_count": 6,
   "id": "3da822e7",
   "metadata": {},
   "outputs": [],
   "source": [
    "#!pip show psycopg2 psycopg2-binary sqlalchemy"
   ]
  },
  {
   "cell_type": "code",
   "execution_count": 7,
   "id": "14a9f086",
   "metadata": {
    "scrolled": true
   },
   "outputs": [
    {
     "name": "stdout",
     "output_type": "stream",
     "text": [
      "/opt/miniconda3/bin/python\r\n"
     ]
    }
   ],
   "source": [
    "!which python"
   ]
  },
  {
   "cell_type": "code",
   "execution_count": 8,
   "id": "6776c67e",
   "metadata": {},
   "outputs": [],
   "source": [
    "#!brew install postgresql"
   ]
  },
  {
   "cell_type": "code",
   "execution_count": 9,
   "id": "b3ae8dc3",
   "metadata": {},
   "outputs": [],
   "source": [
    "from sqlalchemy import create_engine\n",
    "import pandas as pd\n",
    "import seaborn as sns"
   ]
  },
  {
   "cell_type": "code",
   "execution_count": 10,
   "id": "d5ccc0d2",
   "metadata": {},
   "outputs": [],
   "source": [
    "# Note:: The make sure you use the information from your specific PostgreSQL installation\n",
    "host = r'127.0.0.1' # denotes that the db in a local installation\n",
    "db = r'MSDS610' # db we just created\n",
    "user = r'postgres' # using the postgres user for this demo\n",
    "pw = r'*****' # this is the password established during installation\n",
    "port = r'5432' # default port estabalished during install\n",
    "schema = r'raw' # schema we just created"
   ]
  },
  {
   "cell_type": "code",
   "execution_count": 11,
   "id": "83a82178",
   "metadata": {},
   "outputs": [],
   "source": [
    "#db_conn = create_engine(f\"postgresql+psycopg2://{user}:{pw}@{host}:{port}/{db}\")\n"
   ]
  },
  {
   "cell_type": "code",
   "execution_count": 12,
   "id": "2cae57be",
   "metadata": {},
   "outputs": [],
   "source": [
    "db_conn = create_engine(f\"postgresql://{user}:{pw}@{host}:{port}/{db}\")"
   ]
  },
  {
   "cell_type": "code",
   "execution_count": 13,
   "id": "f444b3f3",
   "metadata": {},
   "outputs": [
    {
     "data": {
      "text/html": [
       "<div>\n",
       "<style scoped>\n",
       "    .dataframe tbody tr th:only-of-type {\n",
       "        vertical-align: middle;\n",
       "    }\n",
       "\n",
       "    .dataframe tbody tr th {\n",
       "        vertical-align: top;\n",
       "    }\n",
       "\n",
       "    .dataframe thead th {\n",
       "        text-align: right;\n",
       "    }\n",
       "</style>\n",
       "<table border=\"1\" class=\"dataframe\">\n",
       "  <thead>\n",
       "    <tr style=\"text-align: right;\">\n",
       "      <th></th>\n",
       "      <th>table_name</th>\n",
       "    </tr>\n",
       "  </thead>\n",
       "  <tbody>\n",
       "  </tbody>\n",
       "</table>\n",
       "</div>"
      ],
      "text/plain": [
       "Empty DataFrame\n",
       "Columns: [table_name]\n",
       "Index: []"
      ]
     },
     "execution_count": 13,
     "metadata": {},
     "output_type": "execute_result"
    }
   ],
   "source": [
    "sql=\"select tables.table_name from information_schema.tables where (table_schema ='\"+schema+\"')order by 1;\"\n",
    "tbl_df = pd.read_sql(sql, db_conn, index_col=None)\n",
    "tbl_df"
   ]
  },
  {
   "cell_type": "markdown",
   "id": "c4858da1",
   "metadata": {},
   "source": [
    "## Load data"
   ]
  },
  {
   "cell_type": "code",
   "execution_count": 16,
   "id": "b05b0034",
   "metadata": {},
   "outputs": [
    {
     "name": "stdout",
     "output_type": "stream",
     "text": [
      "<class 'pandas.core.frame.DataFrame'>\n",
      "RangeIndex: 100000 entries, 0 to 99999\n",
      "Data columns (total 26 columns):\n",
      " #   Column                         Non-Null Count   Dtype  \n",
      "---  ------                         --------------   -----  \n",
      " 0   Country                        100000 non-null  object \n",
      " 1   Year                           100000 non-null  int64  \n",
      " 2   Temperature_Anomaly            100000 non-null  float64\n",
      " 3   CO2_Emissions                  100000 non-null  float64\n",
      " 4   Population                     100000 non-null  float64\n",
      " 5   Forest_Area                    100000 non-null  float64\n",
      " 6   GDP                            100000 non-null  float64\n",
      " 7   Renewable_Energy_Usage         100000 non-null  float64\n",
      " 8   Methane_Emissions              100000 non-null  float64\n",
      " 9   Sea_Level_Rise                 100000 non-null  float64\n",
      " 10  Arctic_Ice_Extent              100000 non-null  float64\n",
      " 11  Urbanization                   100000 non-null  float64\n",
      " 12  Deforestation_Rate             100000 non-null  float64\n",
      " 13  Extreme_Weather_Events         100000 non-null  int64  \n",
      " 14  Average_Rainfall               100000 non-null  float64\n",
      " 15  Solar_Energy_Potential         100000 non-null  float64\n",
      " 16  Waste_Management               100000 non-null  float64\n",
      " 17  Per_Capita_Emissions           100000 non-null  float64\n",
      " 18  Industrial_Activity            100000 non-null  float64\n",
      " 19  Air_Pollution_Index            100000 non-null  float64\n",
      " 20  Biodiversity_Index             100000 non-null  float64\n",
      " 21  Ocean_Acidification            100000 non-null  float64\n",
      " 22  Fossil_Fuel_Usage              100000 non-null  float64\n",
      " 23  Energy_Consumption_Per_Capita  100000 non-null  float64\n",
      " 24  Policy_Score                   100000 non-null  float64\n",
      " 25  Average_Temperature            100000 non-null  float64\n",
      "dtypes: float64(23), int64(2), object(1)\n",
      "memory usage: 19.8+ MB\n"
     ]
    }
   ],
   "source": [
    "gl = pd.read_csv('global_warming_dataset.csv') \n",
    "gl.info()"
   ]
  },
  {
   "cell_type": "code",
   "execution_count": 18,
   "id": "2b9750f1",
   "metadata": {},
   "outputs": [],
   "source": [
    "table_name = r'global_warming'"
   ]
  },
  {
   "cell_type": "code",
   "execution_count": 19,
   "id": "1ba8daae",
   "metadata": {},
   "outputs": [
    {
     "data": {
      "text/plain": [
       "100000"
      ]
     },
     "execution_count": 19,
     "metadata": {},
     "output_type": "execute_result"
    }
   ],
   "source": [
    "gl.to_sql(table_name, con=db_conn, if_exists='replace', index=False, schema=schema, chunksize=1000, method='multi')"
   ]
  },
  {
   "cell_type": "code",
   "execution_count": 20,
   "id": "0cbfc066",
   "metadata": {},
   "outputs": [
    {
     "data": {
      "text/html": [
       "<div>\n",
       "<style scoped>\n",
       "    .dataframe tbody tr th:only-of-type {\n",
       "        vertical-align: middle;\n",
       "    }\n",
       "\n",
       "    .dataframe tbody tr th {\n",
       "        vertical-align: top;\n",
       "    }\n",
       "\n",
       "    .dataframe thead th {\n",
       "        text-align: right;\n",
       "    }\n",
       "</style>\n",
       "<table border=\"1\" class=\"dataframe\">\n",
       "  <thead>\n",
       "    <tr style=\"text-align: right;\">\n",
       "      <th></th>\n",
       "      <th>table_name</th>\n",
       "    </tr>\n",
       "  </thead>\n",
       "  <tbody>\n",
       "    <tr>\n",
       "      <th>0</th>\n",
       "      <td>global_warming</td>\n",
       "    </tr>\n",
       "  </tbody>\n",
       "</table>\n",
       "</div>"
      ],
      "text/plain": [
       "       table_name\n",
       "0  global_warming"
      ]
     },
     "execution_count": 20,
     "metadata": {},
     "output_type": "execute_result"
    }
   ],
   "source": [
    "tbl_df = pd.read_sql(sql, db_conn, index_col=None)\n",
    "tbl_df"
   ]
  },
  {
   "cell_type": "code",
   "execution_count": 21,
   "id": "84b137a5",
   "metadata": {},
   "outputs": [],
   "source": [
    "sql=r'SELECT * FROM ' + schema + '.' + table_name\n",
    "penquin_check = pd.read_sql(sql, db_conn, index_col=None)"
   ]
  },
  {
   "cell_type": "code",
   "execution_count": 22,
   "id": "c64f2728",
   "metadata": {},
   "outputs": [
    {
     "data": {
      "text/html": [
       "<div>\n",
       "<style scoped>\n",
       "    .dataframe tbody tr th:only-of-type {\n",
       "        vertical-align: middle;\n",
       "    }\n",
       "\n",
       "    .dataframe tbody tr th {\n",
       "        vertical-align: top;\n",
       "    }\n",
       "\n",
       "    .dataframe thead th {\n",
       "        text-align: right;\n",
       "    }\n",
       "</style>\n",
       "<table border=\"1\" class=\"dataframe\">\n",
       "  <thead>\n",
       "    <tr style=\"text-align: right;\">\n",
       "      <th></th>\n",
       "      <th>Country</th>\n",
       "      <th>Year</th>\n",
       "      <th>Temperature_Anomaly</th>\n",
       "      <th>CO2_Emissions</th>\n",
       "      <th>Population</th>\n",
       "      <th>Forest_Area</th>\n",
       "      <th>GDP</th>\n",
       "      <th>Renewable_Energy_Usage</th>\n",
       "      <th>Methane_Emissions</th>\n",
       "      <th>Sea_Level_Rise</th>\n",
       "      <th>...</th>\n",
       "      <th>Waste_Management</th>\n",
       "      <th>Per_Capita_Emissions</th>\n",
       "      <th>Industrial_Activity</th>\n",
       "      <th>Air_Pollution_Index</th>\n",
       "      <th>Biodiversity_Index</th>\n",
       "      <th>Ocean_Acidification</th>\n",
       "      <th>Fossil_Fuel_Usage</th>\n",
       "      <th>Energy_Consumption_Per_Capita</th>\n",
       "      <th>Policy_Score</th>\n",
       "      <th>Average_Temperature</th>\n",
       "    </tr>\n",
       "  </thead>\n",
       "  <tbody>\n",
       "    <tr>\n",
       "      <th>0</th>\n",
       "      <td>Country_103</td>\n",
       "      <td>1913</td>\n",
       "      <td>-1.163537</td>\n",
       "      <td>8.876061e+08</td>\n",
       "      <td>1.627978e+08</td>\n",
       "      <td>54.872178</td>\n",
       "      <td>6.139887e+12</td>\n",
       "      <td>76.710013</td>\n",
       "      <td>8.317626e+06</td>\n",
       "      <td>8.111839</td>\n",
       "      <td>...</td>\n",
       "      <td>82.691409</td>\n",
       "      <td>2.285351</td>\n",
       "      <td>4.060975</td>\n",
       "      <td>150.285539</td>\n",
       "      <td>90.073356</td>\n",
       "      <td>8.025470</td>\n",
       "      <td>39.163860</td>\n",
       "      <td>1480.164332</td>\n",
       "      <td>78.870012</td>\n",
       "      <td>20.825292</td>\n",
       "    </tr>\n",
       "    <tr>\n",
       "      <th>1</th>\n",
       "      <td>Country_180</td>\n",
       "      <td>1950</td>\n",
       "      <td>-0.432122</td>\n",
       "      <td>4.497517e+08</td>\n",
       "      <td>4.281359e+08</td>\n",
       "      <td>84.051006</td>\n",
       "      <td>2.601447e+12</td>\n",
       "      <td>68.450021</td>\n",
       "      <td>6.206540e+06</td>\n",
       "      <td>42.025915</td>\n",
       "      <td>...</td>\n",
       "      <td>59.322883</td>\n",
       "      <td>17.411668</td>\n",
       "      <td>85.300604</td>\n",
       "      <td>27.305922</td>\n",
       "      <td>88.289837</td>\n",
       "      <td>8.021719</td>\n",
       "      <td>28.252554</td>\n",
       "      <td>1482.730048</td>\n",
       "      <td>32.600905</td>\n",
       "      <td>28.720587</td>\n",
       "    </tr>\n",
       "    <tr>\n",
       "      <th>2</th>\n",
       "      <td>Country_93</td>\n",
       "      <td>2014</td>\n",
       "      <td>0.444954</td>\n",
       "      <td>4.579080e+08</td>\n",
       "      <td>4.926732e+08</td>\n",
       "      <td>72.295357</td>\n",
       "      <td>5.192677e+12</td>\n",
       "      <td>36.725699</td>\n",
       "      <td>1.056885e+06</td>\n",
       "      <td>20.953840</td>\n",
       "      <td>...</td>\n",
       "      <td>94.982931</td>\n",
       "      <td>12.039703</td>\n",
       "      <td>83.804880</td>\n",
       "      <td>216.911429</td>\n",
       "      <td>86.936256</td>\n",
       "      <td>7.647408</td>\n",
       "      <td>61.548382</td>\n",
       "      <td>706.918809</td>\n",
       "      <td>37.671300</td>\n",
       "      <td>15.014084</td>\n",
       "    </tr>\n",
       "    <tr>\n",
       "      <th>3</th>\n",
       "      <td>Country_15</td>\n",
       "      <td>2020</td>\n",
       "      <td>-1.171616</td>\n",
       "      <td>5.049503e+08</td>\n",
       "      <td>1.252169e+09</td>\n",
       "      <td>17.259684</td>\n",
       "      <td>8.252128e+12</td>\n",
       "      <td>77.547901</td>\n",
       "      <td>1.986813e+06</td>\n",
       "      <td>45.599595</td>\n",
       "      <td>...</td>\n",
       "      <td>62.064250</td>\n",
       "      <td>2.853957</td>\n",
       "      <td>47.014265</td>\n",
       "      <td>35.869182</td>\n",
       "      <td>44.904331</td>\n",
       "      <td>7.569353</td>\n",
       "      <td>82.423750</td>\n",
       "      <td>2616.238324</td>\n",
       "      <td>86.581725</td>\n",
       "      <td>-1.277086</td>\n",
       "    </tr>\n",
       "    <tr>\n",
       "      <th>4</th>\n",
       "      <td>Country_107</td>\n",
       "      <td>1964</td>\n",
       "      <td>-0.564038</td>\n",
       "      <td>6.898891e+08</td>\n",
       "      <td>2.932960e+08</td>\n",
       "      <td>44.438605</td>\n",
       "      <td>8.560746e+12</td>\n",
       "      <td>10.019576</td>\n",
       "      <td>3.313252e+06</td>\n",
       "      <td>7.652150</td>\n",
       "      <td>...</td>\n",
       "      <td>84.431279</td>\n",
       "      <td>19.801173</td>\n",
       "      <td>89.379613</td>\n",
       "      <td>284.263093</td>\n",
       "      <td>8.102916</td>\n",
       "      <td>8.015415</td>\n",
       "      <td>29.964450</td>\n",
       "      <td>4975.683780</td>\n",
       "      <td>20.618406</td>\n",
       "      <td>2.861989</td>\n",
       "    </tr>\n",
       "    <tr>\n",
       "      <th>5</th>\n",
       "      <td>Country_72</td>\n",
       "      <td>1926</td>\n",
       "      <td>-1.946218</td>\n",
       "      <td>2.394448e+08</td>\n",
       "      <td>1.441203e+07</td>\n",
       "      <td>6.117781</td>\n",
       "      <td>1.989459e+12</td>\n",
       "      <td>26.163399</td>\n",
       "      <td>8.218906e+06</td>\n",
       "      <td>13.574102</td>\n",
       "      <td>...</td>\n",
       "      <td>36.112468</td>\n",
       "      <td>8.528017</td>\n",
       "      <td>63.807031</td>\n",
       "      <td>172.964007</td>\n",
       "      <td>20.512193</td>\n",
       "      <td>7.874246</td>\n",
       "      <td>67.153067</td>\n",
       "      <td>267.465131</td>\n",
       "      <td>84.672317</td>\n",
       "      <td>37.889804</td>\n",
       "    </tr>\n",
       "    <tr>\n",
       "      <th>6</th>\n",
       "      <td>Country_189</td>\n",
       "      <td>1921</td>\n",
       "      <td>-1.362100</td>\n",
       "      <td>1.977445e+08</td>\n",
       "      <td>1.339563e+09</td>\n",
       "      <td>75.554131</td>\n",
       "      <td>9.131238e+12</td>\n",
       "      <td>82.661868</td>\n",
       "      <td>5.160613e+06</td>\n",
       "      <td>1.378949</td>\n",
       "      <td>...</td>\n",
       "      <td>1.237686</td>\n",
       "      <td>7.484364</td>\n",
       "      <td>15.002742</td>\n",
       "      <td>238.288021</td>\n",
       "      <td>67.988814</td>\n",
       "      <td>8.448967</td>\n",
       "      <td>22.046013</td>\n",
       "      <td>3114.698772</td>\n",
       "      <td>72.740043</td>\n",
       "      <td>-7.786539</td>\n",
       "    </tr>\n",
       "    <tr>\n",
       "      <th>7</th>\n",
       "      <td>Country_21</td>\n",
       "      <td>1921</td>\n",
       "      <td>1.627624</td>\n",
       "      <td>2.111461e+08</td>\n",
       "      <td>2.410014e+07</td>\n",
       "      <td>25.999981</td>\n",
       "      <td>4.034784e+12</td>\n",
       "      <td>36.773252</td>\n",
       "      <td>5.890986e+06</td>\n",
       "      <td>15.617050</td>\n",
       "      <td>...</td>\n",
       "      <td>90.687488</td>\n",
       "      <td>15.747481</td>\n",
       "      <td>86.194366</td>\n",
       "      <td>150.058727</td>\n",
       "      <td>44.592418</td>\n",
       "      <td>8.436721</td>\n",
       "      <td>58.698935</td>\n",
       "      <td>3519.096247</td>\n",
       "      <td>19.243964</td>\n",
       "      <td>4.206395</td>\n",
       "    </tr>\n",
       "    <tr>\n",
       "      <th>8</th>\n",
       "      <td>Country_103</td>\n",
       "      <td>1989</td>\n",
       "      <td>0.541387</td>\n",
       "      <td>7.802026e+08</td>\n",
       "      <td>3.855137e+08</td>\n",
       "      <td>17.797781</td>\n",
       "      <td>6.823672e+12</td>\n",
       "      <td>3.422548</td>\n",
       "      <td>1.313058e+04</td>\n",
       "      <td>36.226933</td>\n",
       "      <td>...</td>\n",
       "      <td>60.895322</td>\n",
       "      <td>10.568785</td>\n",
       "      <td>66.175268</td>\n",
       "      <td>242.089767</td>\n",
       "      <td>93.935792</td>\n",
       "      <td>8.224373</td>\n",
       "      <td>46.630095</td>\n",
       "      <td>2718.348573</td>\n",
       "      <td>89.810124</td>\n",
       "      <td>-5.829195</td>\n",
       "    </tr>\n",
       "    <tr>\n",
       "      <th>9</th>\n",
       "      <td>Country_122</td>\n",
       "      <td>1963</td>\n",
       "      <td>0.016534</td>\n",
       "      <td>5.397029e+08</td>\n",
       "      <td>5.508798e+08</td>\n",
       "      <td>8.948443</td>\n",
       "      <td>4.713484e+12</td>\n",
       "      <td>72.875002</td>\n",
       "      <td>5.766624e+06</td>\n",
       "      <td>8.016881</td>\n",
       "      <td>...</td>\n",
       "      <td>77.485505</td>\n",
       "      <td>13.919414</td>\n",
       "      <td>70.265639</td>\n",
       "      <td>153.191500</td>\n",
       "      <td>77.122932</td>\n",
       "      <td>8.190353</td>\n",
       "      <td>52.587813</td>\n",
       "      <td>1745.691747</td>\n",
       "      <td>30.215953</td>\n",
       "      <td>2.473330</td>\n",
       "    </tr>\n",
       "  </tbody>\n",
       "</table>\n",
       "<p>10 rows × 26 columns</p>\n",
       "</div>"
      ],
      "text/plain": [
       "       Country  Year  Temperature_Anomaly  CO2_Emissions    Population  \\\n",
       "0  Country_103  1913            -1.163537   8.876061e+08  1.627978e+08   \n",
       "1  Country_180  1950            -0.432122   4.497517e+08  4.281359e+08   \n",
       "2   Country_93  2014             0.444954   4.579080e+08  4.926732e+08   \n",
       "3   Country_15  2020            -1.171616   5.049503e+08  1.252169e+09   \n",
       "4  Country_107  1964            -0.564038   6.898891e+08  2.932960e+08   \n",
       "5   Country_72  1926            -1.946218   2.394448e+08  1.441203e+07   \n",
       "6  Country_189  1921            -1.362100   1.977445e+08  1.339563e+09   \n",
       "7   Country_21  1921             1.627624   2.111461e+08  2.410014e+07   \n",
       "8  Country_103  1989             0.541387   7.802026e+08  3.855137e+08   \n",
       "9  Country_122  1963             0.016534   5.397029e+08  5.508798e+08   \n",
       "\n",
       "   Forest_Area           GDP  Renewable_Energy_Usage  Methane_Emissions  \\\n",
       "0    54.872178  6.139887e+12               76.710013       8.317626e+06   \n",
       "1    84.051006  2.601447e+12               68.450021       6.206540e+06   \n",
       "2    72.295357  5.192677e+12               36.725699       1.056885e+06   \n",
       "3    17.259684  8.252128e+12               77.547901       1.986813e+06   \n",
       "4    44.438605  8.560746e+12               10.019576       3.313252e+06   \n",
       "5     6.117781  1.989459e+12               26.163399       8.218906e+06   \n",
       "6    75.554131  9.131238e+12               82.661868       5.160613e+06   \n",
       "7    25.999981  4.034784e+12               36.773252       5.890986e+06   \n",
       "8    17.797781  6.823672e+12                3.422548       1.313058e+04   \n",
       "9     8.948443  4.713484e+12               72.875002       5.766624e+06   \n",
       "\n",
       "   Sea_Level_Rise  ...  Waste_Management  Per_Capita_Emissions  \\\n",
       "0        8.111839  ...         82.691409              2.285351   \n",
       "1       42.025915  ...         59.322883             17.411668   \n",
       "2       20.953840  ...         94.982931             12.039703   \n",
       "3       45.599595  ...         62.064250              2.853957   \n",
       "4        7.652150  ...         84.431279             19.801173   \n",
       "5       13.574102  ...         36.112468              8.528017   \n",
       "6        1.378949  ...          1.237686              7.484364   \n",
       "7       15.617050  ...         90.687488             15.747481   \n",
       "8       36.226933  ...         60.895322             10.568785   \n",
       "9        8.016881  ...         77.485505             13.919414   \n",
       "\n",
       "   Industrial_Activity  Air_Pollution_Index  Biodiversity_Index  \\\n",
       "0             4.060975           150.285539           90.073356   \n",
       "1            85.300604            27.305922           88.289837   \n",
       "2            83.804880           216.911429           86.936256   \n",
       "3            47.014265            35.869182           44.904331   \n",
       "4            89.379613           284.263093            8.102916   \n",
       "5            63.807031           172.964007           20.512193   \n",
       "6            15.002742           238.288021           67.988814   \n",
       "7            86.194366           150.058727           44.592418   \n",
       "8            66.175268           242.089767           93.935792   \n",
       "9            70.265639           153.191500           77.122932   \n",
       "\n",
       "   Ocean_Acidification  Fossil_Fuel_Usage  Energy_Consumption_Per_Capita  \\\n",
       "0             8.025470          39.163860                    1480.164332   \n",
       "1             8.021719          28.252554                    1482.730048   \n",
       "2             7.647408          61.548382                     706.918809   \n",
       "3             7.569353          82.423750                    2616.238324   \n",
       "4             8.015415          29.964450                    4975.683780   \n",
       "5             7.874246          67.153067                     267.465131   \n",
       "6             8.448967          22.046013                    3114.698772   \n",
       "7             8.436721          58.698935                    3519.096247   \n",
       "8             8.224373          46.630095                    2718.348573   \n",
       "9             8.190353          52.587813                    1745.691747   \n",
       "\n",
       "   Policy_Score  Average_Temperature  \n",
       "0     78.870012            20.825292  \n",
       "1     32.600905            28.720587  \n",
       "2     37.671300            15.014084  \n",
       "3     86.581725            -1.277086  \n",
       "4     20.618406             2.861989  \n",
       "5     84.672317            37.889804  \n",
       "6     72.740043            -7.786539  \n",
       "7     19.243964             4.206395  \n",
       "8     89.810124            -5.829195  \n",
       "9     30.215953             2.473330  \n",
       "\n",
       "[10 rows x 26 columns]"
      ]
     },
     "execution_count": 22,
     "metadata": {},
     "output_type": "execute_result"
    }
   ],
   "source": [
    "penquin_check.head(10)"
   ]
  },
  {
   "cell_type": "code",
   "execution_count": null,
   "id": "0003488d",
   "metadata": {},
   "outputs": [],
   "source": []
  }
 ],
 "metadata": {
  "kernelspec": {
   "display_name": "Python (myenv)",
   "language": "python",
   "name": "myenv"
  },
  "language_info": {
   "codemirror_mode": {
    "name": "ipython",
    "version": 3
   },
   "file_extension": ".py",
   "mimetype": "text/x-python",
   "name": "python",
   "nbconvert_exporter": "python",
   "pygments_lexer": "ipython3",
   "version": "3.12.7"
  }
 },
 "nbformat": 4,
 "nbformat_minor": 5
}
